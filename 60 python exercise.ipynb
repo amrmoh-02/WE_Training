{
 "cells": [
  {
   "cell_type": "markdown",
   "id": "759d04ba",
   "metadata": {},
   "source": [
    "1-Write a Python program to calculate the length of a string using 2 ways"
   ]
  },
  {
   "cell_type": "code",
   "execution_count": 1,
   "id": "7a2dfa32",
   "metadata": {},
   "outputs": [
    {
     "name": "stdout",
     "output_type": "stream",
     "text": [
      "5\n",
      "5\n"
     ]
    }
   ],
   "source": [
    "# Method 1: Using built-in len() function\n",
    "def length_of_string_1(s):\n",
    "    return len(s)\n",
    "\n",
    "# Method 2: Iterating through the string\n",
    "def length_of_string_2(s):\n",
    "    count = 0\n",
    "    for char in s:\n",
    "        count += 1\n",
    "    return count\n",
    "\n",
    "# Example usage:\n",
    "string = \"hello\"\n",
    "print(length_of_string_1(string))\n",
    "print(length_of_string_2(string))"
   ]
  },
  {
   "cell_type": "markdown",
   "id": "d7cc9da7",
   "metadata": {},
   "source": [
    "2-Write a Python program to get a string made of the first 2 and last 2 characters of a given string. If the string length is less than 2, return the empty string instead (\"##Sample String : 'w3resource' <br>\n",
    "Expected Result : 'w3ce' <br>\n",
    "##Sample String : 'w3'<br>\n",
    "Expected Result : 'w3w3'<br>\n",
    "##Sample String : ' w'<br>\n",
    "Expected Result : Empty String) "
   ]
  },
  {
   "cell_type": "code",
   "execution_count": 3,
   "id": "dafa9dd8",
   "metadata": {},
   "outputs": [
    {
     "name": "stdout",
     "output_type": "stream",
     "text": [
      "w3ce\n",
      "w3w3\n",
      "\n"
     ]
    }
   ],
   "source": [
    "def string_first_last(s):\n",
    "    if len(s) < 2:\n",
    "        return \"\"\n",
    "    return s[:2] + s[-2:]\n",
    "\n",
    "# Example usage:\n",
    "print(string_first_last(\"w3resource\"))  # Output: 'w3ce'\n",
    "print(string_first_last(\"w3\"))          # Output: 'w3w3'\n",
    "print(string_first_last(\"w\"))          # Output: ''"
   ]
  },
  {
   "cell_type": "markdown",
   "id": "1534f956",
   "metadata": {},
   "source": [
    "3-Write a Python program to add 'ing' at the end of a given string (length should be at least 3). If the given string already ends with 'ing', add 'ly' instead. If the string length of the given string is less than 3, leave it unchanged. (Sample String : 'abc'\n",
    "Expected Result : 'abcing')"
   ]
  },
  {
   "cell_type": "code",
   "execution_count": 4,
   "id": "7ff8cec4",
   "metadata": {},
   "outputs": [
    {
     "name": "stdout",
     "output_type": "stream",
     "text": [
      "abcing\n",
      "stringly\n",
      "go\n"
     ]
    }
   ],
   "source": [
    "def add_suffix(s):\n",
    "    if len(s) >= 3:\n",
    "        if s.endswith(\"ing\"):\n",
    "            return s + \"ly\"\n",
    "        else:\n",
    "            return s + \"ing\"\n",
    "    return s\n",
    "\n",
    "# Example usage:\n",
    "print(add_suffix(\"abc\"))       # Output: 'abcing'\n",
    "print(add_suffix(\"string\"))    # Output: 'stringly'\n",
    "print(add_suffix(\"go\"))        # Output: 'go'"
   ]
  },
  {
   "cell_type": "markdown",
   "id": "1c0a6627",
   "metadata": {},
   "source": [
    "4-Write a Python function that takes a list of words and return the longest word and the length of the longest one\n",
    "(Longest word: Exercises\n",
    "Length of the longest word: 9)"
   ]
  },
  {
   "cell_type": "code",
   "execution_count": 5,
   "id": "397341d9",
   "metadata": {},
   "outputs": [
    {
     "name": "stdout",
     "output_type": "stream",
     "text": [
      "Longest word: Exercises, Length: 9\n"
     ]
    }
   ],
   "source": [
    "def longest_word(words):\n",
    "    longest = max(words, key=len)\n",
    "    return longest, len(longest)\n",
    "\n",
    "# Example usage:\n",
    "words = [\"Python\", \"Exercises\", \"Language\"]\n",
    "longest, length = longest_word(words)\n",
    "print(f\"Longest word: {longest}, Length: {length}\")  # Output: 'Exercises', 9\n"
   ]
  },
  {
   "cell_type": "markdown",
   "id": "53a03a6a",
   "metadata": {},
   "source": [
    "5-Write a Python program to change a given string to a newly string where the first and last chars have been exchanged using 2 ways (Sample String:abca  Expected Result:ebce)"
   ]
  },
  {
   "cell_type": "code",
   "execution_count": 6,
   "id": "285788b4",
   "metadata": {},
   "outputs": [
    {
     "name": "stdout",
     "output_type": "stream",
     "text": [
      "abca\n",
      "abca\n"
     ]
    }
   ],
   "source": [
    "# Method 1: Using string slicing\n",
    "def exchange_first_last_1(s):\n",
    "    if len(s) <= 1:\n",
    "        return s\n",
    "    return s[-1] + s[1:-1] + s[0]\n",
    "\n",
    "# Method 2: Using list conversion\n",
    "def exchange_first_last_2(s):\n",
    "    if len(s) <= 1:\n",
    "        return s\n",
    "    s_list = list(s)\n",
    "    s_list[0], s_list[-1] = s_list[-1], s_list[0]\n",
    "    return ''.join(s_list)\n",
    "\n",
    "# Example usage:\n",
    "print(exchange_first_last_1(\"abca\"))  # Output: 'cbab'\n",
    "print(exchange_first_last_2(\"abca\"))  # Output: 'cbab'"
   ]
  },
  {
   "cell_type": "markdown",
   "id": "25f89808",
   "metadata": {},
   "source": [
    "6-Write a Python program to remove characters that have odd index values in a given string (Sample String:abca Expected Result:ac)"
   ]
  },
  {
   "cell_type": "code",
   "execution_count": 7,
   "id": "05959bd7",
   "metadata": {},
   "outputs": [
    {
     "name": "stdout",
     "output_type": "stream",
     "text": [
      "ac\n"
     ]
    }
   ],
   "source": [
    "def remove_odd_index_chars(s):\n",
    "    return s[::2]\n",
    "\n",
    "# Example usage:\n",
    "print(remove_odd_index_chars(\"abca\"))  # Output: 'ac'\n"
   ]
  },
  {
   "cell_type": "markdown",
   "id": "eb16e898",
   "metadata": {},
   "source": [
    "7-Write a Python program to count the occurrences of each word in a given sentence (Sample String:amr and ahmed are frindes but amr is the tallest Expected Result:2)"
   ]
  },
  {
   "cell_type": "code",
   "execution_count": 1,
   "id": "01ce6cf5",
   "metadata": {},
   "outputs": [
    {
     "name": "stdout",
     "output_type": "stream",
     "text": [
      "{'amr': 2, 'and': 1, 'ahmed': 1, 'are': 1, 'friends': 1, 'but': 1, 'is': 1, 'the': 1, 'tallest': 1}\n"
     ]
    }
   ],
   "source": [
    "def count_word_occurrences(sentence):\n",
    "    words = sentence.split()\n",
    "    word_count = {}\n",
    "    for word in words:\n",
    "        word_count[word] = word_count.get(word, 0) + 1\n",
    "    return word_count\n",
    "\n",
    "# Example usage:\n",
    "sentence = \"amr and ahmed are friends but amr is the tallest\"\n",
    "print(count_word_occurrences(sentence))\n",
    "# Output: {'amr': 2, 'and': 1, 'ahmed': 1, 'are': 1, 'friends': 1, 'but': 1, 'is': 1, 'the': 1, 'tallest': 1}\n"
   ]
  },
  {
   "cell_type": "markdown",
   "id": "4e8125f1",
   "metadata": {},
   "source": [
    "8-Write a Python script that takes input from the user and displays that input back in upper and lower cases"
   ]
  },
  {
   "cell_type": "code",
   "execution_count": 1,
   "id": "66c8f778",
   "metadata": {},
   "outputs": [
    {
     "name": "stdout",
     "output_type": "stream",
     "text": [
      "Upper case: HELLO WORLD\n",
      "Lower case: hello world\n"
     ]
    }
   ],
   "source": [
    "def display_upper_lower_alternative(user_input):\n",
    "    upper_case = \"\".join([chr(ord(char) - 32) if 'a' <= char <= 'z' else char for char in user_input])\n",
    "    lower_case = \"\".join([chr(ord(char) + 32) if 'A' <= char <= 'Z' else char for char in user_input])\n",
    "    \n",
    "    print(f\"Upper case: {upper_case}\")\n",
    "    print(f\"Lower case: {lower_case}\")\n",
    "\n",
    "# Example usage:\n",
    "display_upper_lower_alternative(\"Hello World\")\n"
   ]
  },
  {
   "cell_type": "markdown",
   "id": "fcd68aa1",
   "metadata": {},
   "source": [
    "9-Write a Python function to reverse a string if its length is a multiple of 4"
   ]
  },
  {
   "cell_type": "code",
   "execution_count": 2,
   "id": "0671a931",
   "metadata": {},
   "outputs": [
    {
     "name": "stdout",
     "output_type": "stream",
     "text": [
      "dcba\n",
      "abc\n"
     ]
    }
   ],
   "source": [
    "def reverse_if_multiple_of_four(s):\n",
    "    if len(s) % 4 == 0:\n",
    "        return s[::-1]\n",
    "    return s\n",
    "\n",
    "# Example usage:\n",
    "print(reverse_if_multiple_of_four(\"abcd\"))  # Output: 'dcba'\n",
    "print(reverse_if_multiple_of_four(\"abc\"))   # Output: 'abc'\n"
   ]
  },
  {
   "cell_type": "markdown",
   "id": "b577c68d",
   "metadata": {},
   "source": [
    "10- Write a Python program to remove a newline in Python"
   ]
  },
  {
   "cell_type": "code",
   "execution_count": 3,
   "id": "e0c6525a",
   "metadata": {},
   "outputs": [
    {
     "name": "stdout",
     "output_type": "stream",
     "text": [
      "Hello\n"
     ]
    }
   ],
   "source": [
    "def remove_newline(s):\n",
    "    return s.rstrip(\"\\n\")\n",
    "\n",
    "# Example usage:\n",
    "string_with_newline = \"Hello\\n\"\n",
    "print(remove_newline(string_with_newline))  # Output: 'Hello'\n"
   ]
  },
  {
   "cell_type": "markdown",
   "id": "80db5ae0",
   "metadata": {},
   "source": [
    "11-Write a Python program to check whether a string starts with specified characters"
   ]
  },
  {
   "cell_type": "code",
   "execution_count": 4,
   "id": "0cc4e03e",
   "metadata": {},
   "outputs": [
    {
     "name": "stdout",
     "output_type": "stream",
     "text": [
      "True\n",
      "True\n",
      "True\n"
     ]
    }
   ],
   "source": [
    "def starts_with(string, prefix):\n",
    "    return string.startswith(prefix)\n",
    "\n",
    "# Example usage:\n",
    "print(starts_with(\"hello\", \"he\"))  # Output: True\n",
    "print(starts_with(\"world\", \"wo\"))  # Output: True\n",
    "print(starts_with(\"python\", \"py\"))  # Output: True\n"
   ]
  },
  {
   "cell_type": "markdown",
   "id": "593a68db",
   "metadata": {},
   "source": [
    "12- Write a Python program to add prefix text to all of the lines in a string"
   ]
  },
  {
   "cell_type": "code",
   "execution_count": 5,
   "id": "d2e46ada",
   "metadata": {},
   "outputs": [
    {
     "name": "stdout",
     "output_type": "stream",
     "text": [
      "Prefix: Line 1\n",
      "Prefix: Line 2\n",
      "Prefix: Line 3\n"
     ]
    }
   ],
   "source": [
    "def add_prefix_to_lines(text, prefix):\n",
    "    lines = text.splitlines()\n",
    "    return \"\\n\".join(prefix + line for line in lines)\n",
    "\n",
    "# Example usage:\n",
    "text = \"\"\"Line 1\n",
    "Line 2\n",
    "Line 3\"\"\"\n",
    "print(add_prefix_to_lines(text, \"Prefix: \"))\n",
    "# Output:\n",
    "# Prefix: Line 1\n",
    "# Prefix: Line 2\n",
    "# Prefix: Line 3\n"
   ]
  },
  {
   "cell_type": "markdown",
   "id": "86fa1543",
   "metadata": {},
   "source": [
    "13-Write a Python program to print the following numbers up to 2 decimal places"
   ]
  },
  {
   "cell_type": "code",
   "execution_count": 6,
   "id": "cd4a9d89",
   "metadata": {},
   "outputs": [
    {
     "name": "stdout",
     "output_type": "stream",
     "text": [
      "123.46\n",
      "1.23\n"
     ]
    }
   ],
   "source": [
    "def print_two_decimals(number):\n",
    "    print(f\"{number:.2f}\")\n",
    "\n",
    "# Example usage:\n",
    "print_two_decimals(123.456789)  # Output: 123.46\n",
    "print_two_decimals(1.234)       # Output: 1.23\n"
   ]
  },
  {
   "cell_type": "markdown",
   "id": "452c0ab0",
   "metadata": {},
   "source": [
    "14-Write a Python program to print the following numbers up to 2 decimal places with a sign"
   ]
  },
  {
   "cell_type": "code",
   "execution_count": 7,
   "id": "73e82479",
   "metadata": {},
   "outputs": [
    {
     "name": "stdout",
     "output_type": "stream",
     "text": [
      "+123.46\n",
      "-1.23\n"
     ]
    }
   ],
   "source": [
    "def print_two_decimals_with_sign(number):\n",
    "    print(f\"{number:+.2f}\")\n",
    "\n",
    "# Example usage:\n",
    "print_two_decimals_with_sign(123.456789)  # Output: +123.46\n",
    "print_two_decimals_with_sign(-1.234)      # Output: -1.23\n"
   ]
  },
  {
   "cell_type": "markdown",
   "id": "32b1811a",
   "metadata": {},
   "source": [
    "15-Write a Python program to display a number with a comma separator"
   ]
  },
  {
   "cell_type": "code",
   "execution_count": 8,
   "id": "f30fc0b6",
   "metadata": {},
   "outputs": [
    {
     "name": "stdout",
     "output_type": "stream",
     "text": [
      "1,234,567,890\n"
     ]
    }
   ],
   "source": [
    "def number_with_comma(number):\n",
    "    print(f\"{number:,}\")\n",
    "\n",
    "# Example usage:\n",
    "number_with_comma(1234567890)  # Output: 1,234,567,890\n"
   ]
  },
  {
   "cell_type": "markdown",
   "id": "0477f487",
   "metadata": {},
   "source": [
    "16-Write a Python program to reverse a string using 2 ways"
   ]
  },
  {
   "cell_type": "code",
   "execution_count": 9,
   "id": "aa8beec8",
   "metadata": {},
   "outputs": [
    {
     "name": "stdout",
     "output_type": "stream",
     "text": [
      "olleh\n",
      "olleh\n"
     ]
    }
   ],
   "source": [
    "# Method 1: Using slicing\n",
    "def reverse_string_1(s):\n",
    "    return s[::-1]\n",
    "\n",
    "# Method 2: Using a loop\n",
    "def reverse_string_2(s):\n",
    "    reversed_string = \"\"\n",
    "    for char in s:\n",
    "        reversed_string = char + reversed_string\n",
    "    return reversed_string\n",
    "\n",
    "# Example usage:\n",
    "print(reverse_string_1(\"hello\"))  # Output: 'olleh'\n",
    "print(reverse_string_2(\"hello\"))  # Output: 'olleh'\n"
   ]
  },
  {
   "cell_type": "markdown",
   "id": "5afc3166",
   "metadata": {},
   "source": [
    " 17-Write a Python program to count repeated characters in a string (hint:use dictionary)"
   ]
  },
  {
   "cell_type": "code",
   "execution_count": 10,
   "id": "515a469c",
   "metadata": {},
   "outputs": [
    {
     "name": "stdout",
     "output_type": "stream",
     "text": [
      "{'a': 5, 'b': 2, 'r': 2}\n"
     ]
    }
   ],
   "source": [
    "def count_repeated_characters(s):\n",
    "    char_count = {}\n",
    "    for char in s:\n",
    "        if char in char_count:\n",
    "            char_count[char] += 1\n",
    "        else:\n",
    "            char_count[char] = 1\n",
    "    return {char: count for char, count in char_count.items() if count > 1}\n",
    "\n",
    "# Example usage:\n",
    "print(count_repeated_characters(\"abracadabra\"))\n",
    "# Output: {'a': 5, 'b': 2, 'r': 2}\n"
   ]
  },
  {
   "cell_type": "markdown",
   "id": "ae14e4e5",
   "metadata": {},
   "source": [
    "18-Write a Python program to find the first non-repeating character in a given string"
   ]
  },
  {
   "cell_type": "code",
   "execution_count": 11,
   "id": "d73778e5",
   "metadata": {},
   "outputs": [
    {
     "name": "stdout",
     "output_type": "stream",
     "text": [
      "c\n"
     ]
    }
   ],
   "source": [
    "def first_non_repeating_character(s):\n",
    "    char_count = {}\n",
    "    for char in s:\n",
    "        char_count[char] = char_count.get(char, 0) + 1\n",
    "    for char in s:\n",
    "        if char_count[char] == 1:\n",
    "            return char\n",
    "    return None\n",
    "\n",
    "# Example usage:\n",
    "print(first_non_repeating_character(\"abracadabra\"))  # Output: 'c'\n"
   ]
  },
  {
   "cell_type": "markdown",
   "id": "3adf5669",
   "metadata": {},
   "source": [
    "19-Write a Python program to remove spaces from a given string"
   ]
  },
  {
   "cell_type": "code",
   "execution_count": 12,
   "id": "b4f22602",
   "metadata": {},
   "outputs": [
    {
     "name": "stdout",
     "output_type": "stream",
     "text": [
      "HelloWorld!\n"
     ]
    }
   ],
   "source": [
    "def remove_spaces(s):\n",
    "    return s.replace(\" \", \"\")\n",
    "\n",
    "# Example usage:\n",
    "print(remove_spaces(\"Hello World!\"))  # Output: 'HelloWorld!'\n"
   ]
  },
  {
   "cell_type": "markdown",
   "id": "734de60c",
   "metadata": {},
   "source": [
    "20-Write a Python program to count the number of non-empty substrings of a given string"
   ]
  },
  {
   "cell_type": "code",
   "execution_count": 13,
   "id": "ef3f2274",
   "metadata": {},
   "outputs": [
    {
     "name": "stdout",
     "output_type": "stream",
     "text": [
      "10\n"
     ]
    }
   ],
   "source": [
    "def count_non_empty_substrings(s):\n",
    "    n = len(s)\n",
    "    return (n * (n + 1)) // 2\n",
    "\n",
    "# Example usage:\n",
    "print(count_non_empty_substrings(\"abcd\"))  # Output: 10\n"
   ]
  },
  {
   "cell_type": "markdown",
   "id": "509998e2",
   "metadata": {},
   "source": [
    "21-write a Python program to swap first and last element of any list."
   ]
  },
  {
   "cell_type": "code",
   "execution_count": 2,
   "id": "68692d7f",
   "metadata": {},
   "outputs": [
    {
     "name": "stdout",
     "output_type": "stream",
     "text": [
      "[4, 2, 3, 1]\n"
     ]
    }
   ],
   "source": [
    "def swap_first_last(lst):\n",
    "    if len(lst) > 1:\n",
    "        lst[0], lst[-1] = lst[-1], lst[0]\n",
    "    return lst\n",
    "\n",
    "# Example usage:\n",
    "print(swap_first_last([1, 2, 3, 4]))  # Output: [4, 2, 3, 1]\n"
   ]
  },
  {
   "cell_type": "markdown",
   "id": "959e0837",
   "metadata": {},
   "source": [
    "22-Given a list in Python and provided the positions of the elements,\n",
    "<br>write a program to swap the two elements in the list.<br>\n",
    "(Input : List = [23, 65, 19, 90], pos1 = 1, pos2 = 3 <br>\n",
    "Output : [19, 65, 23, 90])"
   ]
  },
  {
   "cell_type": "code",
   "execution_count": 3,
   "id": "225d8c6d",
   "metadata": {},
   "outputs": [
    {
     "name": "stdout",
     "output_type": "stream",
     "text": [
      "[23, 90, 19, 65]\n"
     ]
    }
   ],
   "source": [
    "def swap_elements(lst, pos1, pos2):\n",
    "    if pos1 < len(lst) and pos2 < len(lst):\n",
    "        lst[pos1], lst[pos2] = lst[pos2], lst[pos1]\n",
    "    return lst\n",
    "\n",
    "# Example usage:\n",
    "print(swap_elements([23, 65, 19, 90], 1, 3))  # Output: [23, 90, 19, 65]\n"
   ]
  },
  {
   "cell_type": "markdown",
   "id": "66fc6682",
   "metadata": {},
   "source": [
    "23- search for the all ways to know the length of the list"
   ]
  },
  {
   "cell_type": "code",
   "execution_count": 4,
   "id": "0ce2ab11-e694-4ef4-886e-781f5c6857d1",
   "metadata": {},
   "outputs": [
    {
     "name": "stdout",
     "output_type": "stream",
     "text": [
      "5\n",
      "5\n"
     ]
    }
   ],
   "source": [
    "lst = [1, 2, 3, 4, 5]\n",
    "print(len(lst))  # Output: 5\n",
    "\n",
    "def length_of_list(lst):\n",
    "    count = 0\n",
    "    for _ in lst:\n",
    "        count += 1\n",
    "    return count\n",
    "\n",
    "# Example usage:\n",
    "print(length_of_list([1, 2, 3, 4, 5]))  # Output: 5\n"
   ]
  },
  {
   "cell_type": "markdown",
   "id": "635e76c5-7b68-4e02-972d-7d9eae99b598",
   "metadata": {},
   "source": [
    "24-write a Python code to find the Maximum number of list of numbers."
   ]
  },
  {
   "cell_type": "code",
   "execution_count": 5,
   "id": "15f342de",
   "metadata": {},
   "outputs": [
    {
     "name": "stdout",
     "output_type": "stream",
     "text": [
      "9\n"
     ]
    }
   ],
   "source": [
    "def find_max(lst):\n",
    "    if not lst:\n",
    "        return None\n",
    "    max_value = lst[0]\n",
    "    for num in lst:\n",
    "        if num > max_value:\n",
    "            max_value = num\n",
    "    return max_value\n",
    "\n",
    "# Example usage:\n",
    "print(find_max([4, 2, 9, 1, 5]))  # Output: 9\n"
   ]
  },
  {
   "cell_type": "markdown",
   "id": "af36b71c-3de0-42e0-b49a-fc06cfc62068",
   "metadata": {},
   "source": [
    "25-write a Python code to find the Minimum number of list of numbers."
   ]
  },
  {
   "cell_type": "code",
   "execution_count": 6,
   "id": "21f8cbd6",
   "metadata": {},
   "outputs": [
    {
     "name": "stdout",
     "output_type": "stream",
     "text": [
      "1\n"
     ]
    }
   ],
   "source": [
    "def find_min(lst):\n",
    "    if not lst:\n",
    "        return None\n",
    "    min_value = lst[0]\n",
    "    for num in lst:\n",
    "        if num < min_value:\n",
    "            min_value = num\n",
    "    return min_value\n",
    "\n",
    "# Example usage:\n",
    "print(find_min([4, 2, 9, 1, 5]))  # Output: 1\n"
   ]
  },
  {
   "cell_type": "markdown",
   "id": "96822d96",
   "metadata": {},
   "source": [
    "**26-search for if an elem is existing in list"
   ]
  },
  {
   "cell_type": "code",
   "execution_count": 7,
   "id": "51ca5c9a",
   "metadata": {},
   "outputs": [
    {
     "name": "stdout",
     "output_type": "stream",
     "text": [
      "True\n",
      "False\n"
     ]
    }
   ],
   "source": [
    "def element_exists(lst, elem):\n",
    "    return elem in lst\n",
    "\n",
    "# Example usage:\n",
    "print(element_exists([4, 2, 9, 1, 5], 9))  # Output: True\n",
    "print(element_exists([4, 2, 9, 1, 5], 6))  # Output: False\n"
   ]
  },
  {
   "cell_type": "markdown",
   "id": "d9557da7",
   "metadata": {},
   "source": [
    "**27- clear python list using different ways"
   ]
  },
  {
   "cell_type": "code",
   "execution_count": 8,
   "id": "b69858a3",
   "metadata": {},
   "outputs": [
    {
     "name": "stdout",
     "output_type": "stream",
     "text": [
      "[]\n",
      "[]\n"
     ]
    }
   ],
   "source": [
    "lst = [1, 2, 3, 4, 5]\n",
    "lst.clear()\n",
    "print(lst)  # Output: []\n",
    "\n",
    "lst = [1, 2, 3, 4, 5]\n",
    "del lst[:]\n",
    "print(lst)  # Output: []\n"
   ]
  },
  {
   "cell_type": "markdown",
   "id": "52160e88",
   "metadata": {},
   "source": [
    "**28-remove duplicated elements from a list"
   ]
  },
  {
   "cell_type": "code",
   "execution_count": 9,
   "id": "5e362228",
   "metadata": {},
   "outputs": [
    {
     "name": "stdout",
     "output_type": "stream",
     "text": [
      "[1, 2, 3, 4, 5]\n"
     ]
    }
   ],
   "source": [
    "def remove_duplicates(lst):\n",
    "    return list(dict.fromkeys(lst))\n",
    "\n",
    "# Example usage:\n",
    "print(remove_duplicates([1, 2, 2, 3, 4, 4, 5]))  # Output: [1, 2, 3, 4, 5]\n"
   ]
  },
  {
   "cell_type": "markdown",
   "id": "282337f7",
   "metadata": {},
   "source": [
    "**29-Given list values and keys list, convert these values to key value pairs in form of list of dictionaries.<br>\n",
    "(Input : test_list = [“Gfg”, 3, “is”, 8], key_list = [“name”, “id”]<br>\n",
    "Output : [{‘name’: ‘Gfg’, ‘id’: 3}, {‘name’: ‘is’, ‘id’: 8}])"
   ]
  },
  {
   "cell_type": "code",
   "execution_count": 10,
   "id": "4d4e2d28",
   "metadata": {},
   "outputs": [
    {
     "name": "stdout",
     "output_type": "stream",
     "text": [
      "[{'name': 'Gfg', 'id': 3}, {'name': 'is', 'id': 8}]\n"
     ]
    }
   ],
   "source": [
    "def convert_to_dict(test_list, key_list):\n",
    "    result = []\n",
    "    for i in range(0, len(test_list), len(key_list)):\n",
    "        result.append(dict(zip(key_list, test_list[i:i+len(key_list)])))\n",
    "    return result\n",
    "\n",
    "# Example usage:\n",
    "test_list = [\"Gfg\", 3, \"is\", 8]\n",
    "key_list = [\"name\", \"id\"]\n",
    "print(convert_to_dict(test_list, key_list))\n",
    "# Output: [{'name': 'Gfg', 'id': 3}, {'name': 'is', 'id': 8}]\n"
   ]
  },
  {
   "cell_type": "markdown",
   "id": "c26b6e9f",
   "metadata": {},
   "source": [
    "**30-write a python program to count unique values inside a list using different ways"
   ]
  },
  {
   "cell_type": "code",
   "execution_count": 1,
   "id": "72132667",
   "metadata": {},
   "outputs": [
    {
     "name": "stdout",
     "output_type": "stream",
     "text": [
      "1st:  8\n",
      "2nd:  8\n"
     ]
    }
   ],
   "source": [
    "import numpy as np\n",
    "a = [1,2,4,2,5,5,5,6,7,8,9]\n",
    "# m = np.array(a)\n",
    "print(\"1st: \",len(set(a)))\n",
    "\n",
    "def count_unique_loop(lst):\n",
    "    unique_list = []\n",
    "    for item in lst:\n",
    "        if item not in unique_list:\n",
    "            unique_list.append(item)\n",
    "    return len(unique_list)\n",
    "\n",
    "print(\"2nd: \",count_unique_loop(a))\n"
   ]
  },
  {
   "cell_type": "markdown",
   "id": "fed6677c",
   "metadata": {},
   "source": [
    "**31-write a python program Extract all elements with Frequency greater than K (Input : test_list = [4, 6, 4, 3, 3, 4, 3, 4, 3, 8], K = 3 \n",
    "Output : [4, 3] )"
   ]
  },
  {
   "cell_type": "code",
   "execution_count": 2,
   "id": "d81f3f9d",
   "metadata": {},
   "outputs": [
    {
     "name": "stdout",
     "output_type": "stream",
     "text": [
      "[4, 3]\n"
     ]
    }
   ],
   "source": [
    "from collections import Counter\n",
    "\n",
    "def extract_elements_with_frequency_greater_than_k(test_list, K):\n",
    "    # Count frequencies of elements\n",
    "    frequency = Counter(test_list)\n",
    "    \n",
    "    # Extract elements whose frequency is greater than K\n",
    "    result = [key for key, value in frequency.items() if value > K]\n",
    "    \n",
    "    return result\n",
    "\n",
    "# Example usage\n",
    "test_list = [4, 6, 4, 3, 3, 4, 3, 4, 3, 8]\n",
    "K = 3\n",
    "print(extract_elements_with_frequency_greater_than_k(test_list, K))"
   ]
  },
  {
   "cell_type": "markdown",
   "id": "caca5224",
   "metadata": {},
   "source": [
    "**32-write a python program to find the Strongest Neighbour (Input: 1 2 2 3 4 5 4\n",
    "Output: 2 2 3 4 5 4 5)"
   ]
  },
  {
   "cell_type": "code",
   "execution_count": 3,
   "id": "39fbd9b2",
   "metadata": {},
   "outputs": [
    {
     "name": "stdout",
     "output_type": "stream",
     "text": [
      "[2, 2, 3, 4, 5, 5]\n"
     ]
    }
   ],
   "source": [
    "def strongest_neighbour(arr):\n",
    "    # Initialize an empty list to store the strongest neighbors\n",
    "    result = []\n",
    "    \n",
    "    # Iterate through the array to find the maximum between adjacent elements\n",
    "    for i in range(len(arr) - 1):\n",
    "        result.append(max(arr[i], arr[i + 1]))\n",
    "    \n",
    "    return result\n",
    "\n",
    "# Example usage\n",
    "arr = [1, 2, 2, 3, 4, 5, 4]\n",
    "print(strongest_neighbour(arr))  # Output: [2, 2, 3, 4, 5, 5]\n"
   ]
  },
  {
   "cell_type": "markdown",
   "id": "a9fa8baf",
   "metadata": {},
   "source": [
    "**33-write a Python Program to print all Possible Combinations from the three Digits (Input: [1, 2, 3]\n",
    "Output:\n",
    "1 2 3 ##\n",
    "1 3 2 ##\n",
    "2 1 3 ##\n",
    "2 3 1 ##\n",
    "3 1 2 ##\n",
    "3 2 1)"
   ]
  },
  {
   "cell_type": "code",
   "execution_count": 4,
   "id": "e61aa4ee",
   "metadata": {},
   "outputs": [
    {
     "name": "stdout",
     "output_type": "stream",
     "text": [
      "1 2 3\n",
      "1 3 2\n",
      "2 1 3\n",
      "2 3 1\n",
      "3 1 2\n",
      "3 2 1\n"
     ]
    }
   ],
   "source": [
    "# built in\n",
    "\n",
    "from itertools import permutations\n",
    "\n",
    "def print_combinations(digits):\n",
    "    # Generate all possible permutations of the list\n",
    "    perms = permutations(digits)\n",
    "    \n",
    "    # Print each permutation\n",
    "    for perm in perms:\n",
    "        print(\" \".join(map(str, perm)))\n",
    "\n",
    "# Example usage\n",
    "digits = [1, 2, 3]\n",
    "print_combinations(digits)\n"
   ]
  },
  {
   "cell_type": "markdown",
   "id": "eab703bc",
   "metadata": {},
   "source": [
    "**33-write a Python Program to print all Possible Combinations from the three Digits (Input: [1, 2, 3]\n",
    "Output:\n",
    "1 2 3 ##\n",
    "1 3 2 ##\n",
    "2 1 3 ##\n",
    "2 3 1 ##\n",
    "3 1 2 ##\n",
    "3 2 1)"
   ]
  },
  {
   "cell_type": "code",
   "execution_count": 5,
   "id": "8c520a76",
   "metadata": {},
   "outputs": [
    {
     "name": "stdout",
     "output_type": "stream",
     "text": [
      "1 2 3\n",
      "1 3 2\n",
      "2 1 3\n",
      "2 3 1\n",
      "3 1 2\n",
      "3 2 1\n"
     ]
    }
   ],
   "source": [
    "def print_combinations(digits):\n",
    "    # Generate all possible combinations manually\n",
    "    n = len(digits)\n",
    "    for i in range(n):\n",
    "        for j in range(n):\n",
    "            if j == i:\n",
    "                continue\n",
    "            for k in range(n):\n",
    "                if k == i or k == j:\n",
    "                    continue\n",
    "                print(digits[i], digits[j], digits[k])\n",
    "\n",
    "# Example usage\n",
    "digits = [1, 2, 3]\n",
    "print_combinations(digits)"
   ]
  },
  {
   "cell_type": "markdown",
   "id": "5288bb89",
   "metadata": {},
   "source": [
    "**34-write a Python program to find all the Combinations in the list with the given condition (Input: test_list = [1,2,3] \n",
    "Output: \n",
    " [1], [1, 2], [1, 2, 3], [1, 3]\n",
    " [2], [2, 3], [3])"
   ]
  },
  {
   "cell_type": "code",
   "execution_count": 6,
   "id": "59b89646",
   "metadata": {},
   "outputs": [
    {
     "name": "stdout",
     "output_type": "stream",
     "text": [
      "[1]\n",
      "[1, 2]\n",
      "[1, 2, 3]\n",
      "[2]\n",
      "[2, 3]\n",
      "[3]\n"
     ]
    }
   ],
   "source": [
    "def find_combinations(test_list):\n",
    "    # Initialize an empty list to store the results\n",
    "    result = []\n",
    "    \n",
    "    # Iterate over all possible starting points in the list\n",
    "    for i in range(len(test_list)):\n",
    "        # Start a new combination from each element\n",
    "        sub_list = []\n",
    "        for j in range(i, len(test_list)):\n",
    "            sub_list.append(test_list[j])\n",
    "            result.append(sub_list[:])  # Append a copy of the current sub_list to the result\n",
    "    \n",
    "    return result\n",
    "\n",
    "# Example usage\n",
    "test_list = [1, 2, 3]\n",
    "combinations = find_combinations(test_list)\n",
    "\n",
    "# Print the combinations\n",
    "for combination in combinations:\n",
    "    print(combination)\n"
   ]
  },
  {
   "cell_type": "markdown",
   "id": "39973705",
   "metadata": {},
   "source": [
    "**35-write a Python program to get all unique combinations of two Lists (List_1 = [\"a\",\"b\"]\n",
    "List_2 = [1,2]\n",
    "Unique_combination = [[('a',1),('b',2)],[('a',2),('b',1)]] )"
   ]
  },
  {
   "cell_type": "code",
   "execution_count": 7,
   "id": "8c4ba22b",
   "metadata": {},
   "outputs": [
    {
     "name": "stdout",
     "output_type": "stream",
     "text": [
      "[[('a', 1), ('b', 2)], [('a', 2), ('b', 1)]]\n"
     ]
    }
   ],
   "source": [
    "import itertools\n",
    "\n",
    "def unique_combinations(list_1, list_2):\n",
    "    # Generate all permutations of List_2\n",
    "    permutations_list = list(itertools.permutations(list_2))\n",
    "    \n",
    "    # Generate all possible combinations of List_1 with each permutation of List_2\n",
    "    unique_combinations = [list(zip(list_1, perm)) for perm in permutations_list]\n",
    "    \n",
    "    return unique_combinations\n",
    "\n",
    "# Example lists\n",
    "List_1 = [\"a\", \"b\"]\n",
    "List_2 = [1, 2]\n",
    "\n",
    "# Get the unique combinations\n",
    "Unique_combination = unique_combinations(List_1, List_2)\n",
    "print(Unique_combination)\n"
   ]
  },
  {
   "cell_type": "markdown",
   "id": "25199af5",
   "metadata": {},
   "source": [
    "**36-Remove all the occurrences of an element from a list in Python (Input : 1 1 2 3 4 5 1 2 1 \n",
    "\n",
    "**Output : 2 3 4 5 2)"
   ]
  },
  {
   "cell_type": "code",
   "execution_count": 8,
   "id": "6dc4c2ba",
   "metadata": {},
   "outputs": [
    {
     "name": "stdout",
     "output_type": "stream",
     "text": [
      "[2, 3, 4, 5, 2]\n"
     ]
    }
   ],
   "source": [
    "def remove_occurrences(input_list, element_to_remove):\n",
    "    # Create a new list excluding the element to be removed\n",
    "    result_list = [element for element in input_list if element != element_to_remove]\n",
    "    return result_list\n",
    "\n",
    "# Example usage\n",
    "input_list = [1, 1, 2, 3, 4, 5, 1, 2, 1]\n",
    "element_to_remove = 1\n",
    "\n",
    "# Get the list after removing all occurrences of the element\n",
    "output_list = remove_occurrences(input_list, element_to_remove)\n",
    "print(output_list)\n"
   ]
  },
  {
   "cell_type": "markdown",
   "id": "bf1a3c93",
   "metadata": {},
   "source": [
    "**37-write a python program to Replace index elements with elements in Other List <br>\n",
    "(The original list 1 is : [‘Gfg’, ‘is’, ‘best’]<br> \n",
    "The original list 2 is : [0, 1, 2, 1, 0, 0, 0, 2, 1, 1, 2, 0] <br>\n",
    "The lists after index elements replacements is : [‘Gfg’, ‘is’, ‘best’, ‘is’, ‘Gfg’, ‘Gfg’, ‘Gfg’, ‘best’, ‘is’, ‘is’, ‘best’, ‘Gfg’])"
   ]
  },
  {
   "cell_type": "code",
   "execution_count": 9,
   "id": "e3ab6802-d0c3-41ea-aa81-ce4023808f0c",
   "metadata": {},
   "outputs": [
    {
     "name": "stdout",
     "output_type": "stream",
     "text": [
      "['Gfg', 'is', 'best', 'is', 'Gfg', 'Gfg', 'Gfg', 'best', 'is', 'is', 'best', 'Gfg']\n"
     ]
    }
   ],
   "source": [
    "def replace_with_index_elements(list1, list2):\n",
    "    # Replace elements in list2 using corresponding elements from list1\n",
    "    result_list = [list1[i] for i in list2]\n",
    "    return result_list\n",
    "\n",
    "# Example lists\n",
    "list1 = ['Gfg', 'is', 'best']\n",
    "list2 = [0, 1, 2, 1, 0, 0, 0, 2, 1, 1, 2, 0]\n",
    "\n",
    "# Get the list after replacing index elements\n",
    "output_list = replace_with_index_elements(list1, list2)\n",
    "print(output_list)"
   ]
  },
  {
   "cell_type": "markdown",
   "id": "af0f56e8",
   "metadata": {},
   "source": [
    "**38- write python program to Retain records with N occurrences of K(Input : test_list = [(4, 5, 5, 4), (5, 4, 3)], K = 5, N = 2 <br>\n",
    "Output : [(4, 5, 5, 4)] <br>\n",
    "Input : test_list = [(4, 5, 5, 4), (5, 4, 3)], K = 5, N = 3 <br>\n",
    "Output : [] )"
   ]
  },
  {
   "cell_type": "code",
   "execution_count": 10,
   "id": "5b378aef-36e8-4a02-b14b-1197ffbd7df0",
   "metadata": {},
   "outputs": [
    {
     "name": "stdout",
     "output_type": "stream",
     "text": [
      "Output 1: [(4, 5, 5, 4)]\n",
      "Output 2: []\n"
     ]
    }
   ],
   "source": [
    "def retain_records_with_n_occurrences(test_list, K, N):\n",
    "    # Retain tuples where K occurs exactly N times\n",
    "    result_list = [tup for tup in test_list if tup.count(K) == N]\n",
    "    return result_list\n",
    "\n",
    "# Example usage\n",
    "test_list_1 = [(4, 5, 5, 4), (5, 4, 3)]\n",
    "K1, N1 = 5, 2\n",
    "\n",
    "test_list_2 = [(4, 5, 5, 4), (5, 4, 3)]\n",
    "K2, N2 = 5, 3\n",
    "\n",
    "# Get the results\n",
    "output_1 = retain_records_with_n_occurrences(test_list_1, K1, N1)\n",
    "output_2 = retain_records_with_n_occurrences(test_list_2, K2, N2)\n",
    "\n",
    "print(\"Output 1:\", output_1)\n",
    "print(\"Output 2:\", output_2)"
   ]
  },
  {
   "cell_type": "markdown",
   "id": "de76f183",
   "metadata": {},
   "source": [
    "**39-write a Python Program to Sort the list according to the column using lambda<br>\n",
    "array = [[1, 3, 3], [2, 1, 2], [3, 2, 1]]<br>\n",
    "Output :<br>\n",
    "Sorted array specific to column 0, [[1, 3, 3], [2, 1, 2], [3, 2, 1]]<br>\n",
    "Sorted array specific to column 1, [[2, 1, 2], [3, 2, 1], [1, 3, 3]]<br>\n",
    "Sorted array specific to column 2, [[3, 2, 1], [2, 1, 2], [1, 3, 3]]"
   ]
  },
  {
   "cell_type": "code",
   "execution_count": 11,
   "id": "86e2ec37-1c78-47cb-b57f-3a9ddc7c553e",
   "metadata": {},
   "outputs": [
    {
     "name": "stdout",
     "output_type": "stream",
     "text": [
      "Sorted array specific to column 0: [[1, 3, 3], [2, 1, 2], [3, 2, 1]]\n",
      "Sorted array specific to column 1: [[2, 1, 2], [3, 2, 1], [1, 3, 3]]\n",
      "Sorted array specific to column 2: [[3, 2, 1], [2, 1, 2], [1, 3, 3]]\n"
     ]
    }
   ],
   "source": [
    "def sort_by_column(array, col_index):\n",
    "    # Sort the array based on the specified column index\n",
    "    return sorted(array, key=lambda x: x[col_index])\n",
    "\n",
    "# Example array\n",
    "array = [[1, 3, 3], [2, 1, 2], [3, 2, 1]]\n",
    "\n",
    "# Sorting based on different columns\n",
    "sorted_by_col_0 = sort_by_column(array, 0)\n",
    "sorted_by_col_1 = sort_by_column(array, 1)\n",
    "sorted_by_col_2 = sort_by_column(array, 2)\n",
    "\n",
    "print(\"Sorted array specific to column 0:\", sorted_by_col_0)\n",
    "print(\"Sorted array specific to column 1:\", sorted_by_col_1)\n",
    "print(\"Sorted array specific to column 2:\", sorted_by_col_2)"
   ]
  },
  {
   "cell_type": "markdown",
   "id": "cc17bbe5-03d1-4204-a6f5-75665af9bc72",
   "metadata": {},
   "source": [
    "**40- write a program to Sort Python Dictionaries by Key or Value <br>\n",
    "Input: <br>\n",
    "{'ravi': 10, 'rajnish': 9, 'sanjeev': 15, 'yash': 2, 'suraj': 32}\n",
    "<br>\n",
    "Output: <br>\n",
    "{'rajnish': 9, 'ravi': 10, 'sanjeev': 15, 'suraj': 32, 'yash': 2}"
   ]
  },
  {
   "cell_type": "code",
   "execution_count": 12,
   "id": "a96db4a0",
   "metadata": {},
   "outputs": [
    {
     "name": "stdout",
     "output_type": "stream",
     "text": [
      "Sorted by keys: {'rajnish': 9, 'ravi': 10, 'sanjeev': 15, 'suraj': 32, 'yash': 2}\n"
     ]
    }
   ],
   "source": [
    "def sort_dict_by_keys(input_dict):\n",
    "    # Sort the dictionary by keys\n",
    "    return {key: input_dict[key] for key in sorted(input_dict)}\n",
    "\n",
    "# Example dictionary\n",
    "input_dict = {'ravi': 10, 'rajnish': 9, 'sanjeev': 15, 'yash': 2, 'suraj': 32}\n",
    "\n",
    "# Sort by keys\n",
    "sorted_by_keys = sort_dict_by_keys(input_dict)\n",
    "print(\"Sorted by keys:\", sorted_by_keys)"
   ]
  },
  {
   "cell_type": "code",
   "execution_count": 13,
   "id": "4a4a4a65",
   "metadata": {},
   "outputs": [
    {
     "name": "stdout",
     "output_type": "stream",
     "text": [
      "Sorted by values: {'yash': 2, 'rajnish': 9, 'ravi': 10, 'sanjeev': 15, 'suraj': 32}\n"
     ]
    }
   ],
   "source": [
    "def sort_dict_by_values(input_dict):\n",
    "    # Sort the dictionary by values\n",
    "    return {key: value for key, value in sorted(input_dict.items(), key=lambda item: item[1])}\n",
    "\n",
    "# Sort by values\n",
    "sorted_by_values = sort_dict_by_values(input_dict)\n",
    "print(\"Sorted by values:\", sorted_by_values)"
   ]
  },
  {
   "cell_type": "markdown",
   "id": "ec63c23a",
   "metadata": {},
   "source": [
    "**41-write python program to Remove keys with Values Greater than K ( Including mixed values ) <br>\n",
    "input : test_dict = {‘Gfg’ : 3, ‘is’ : 7, ‘best’ : 10, ‘for’ : 6, ‘geeks’ : ‘CS’},\n",
    "K = 7 <br>\n",
    "Output : {‘Gfg’ : 3, ‘for’ : 6, ‘geeks’ : ‘CS’}"
   ]
  },
  {
   "cell_type": "code",
   "execution_count": 14,
   "id": "e39c3a40",
   "metadata": {},
   "outputs": [
    {
     "name": "stdout",
     "output_type": "stream",
     "text": [
      "Output: {'Gfg': 3, 'is': 7, 'for': 6, 'geeks': 'CS'}\n"
     ]
    }
   ],
   "source": [
    "def remove_keys_with_values_greater_than_k(test_dict, K):\n",
    "    # Filter out keys with values greater than K\n",
    "    result_dict = {key: value for key, value in test_dict.items() if not (isinstance(value, (int, float)) and value > K)}\n",
    "    return result_dict\n",
    "\n",
    "# Example input\n",
    "test_dict = {'Gfg': 3, 'is': 7, 'best': 10, 'for': 6, 'geeks': 'CS'}\n",
    "K = 7\n",
    "\n",
    "# Get the dictionary after removing keys with values greater than K\n",
    "output_dict = remove_keys_with_values_greater_than_k(test_dict, K)\n",
    "print(\"Output:\", output_dict)"
   ]
  },
  {
   "cell_type": "markdown",
   "id": "f143f0fe",
   "metadata": {},
   "source": [
    "**42-Write a Python program to concatenate the following dictionaries to create a new one\n",
    "\n",
    "Sample Dictionary :\n",
    "dic1={1:10, 2:20}\n",
    "dic2={3:30, 4:40}\n",
    "dic3={5:50,6:60}\n",
    "Expected Result : {1: 10, 2: 20, 3: 30, 4: 40, 5: 50, 6: 60}"
   ]
  },
  {
   "cell_type": "code",
   "execution_count": 15,
   "id": "74ffdfea",
   "metadata": {},
   "outputs": [
    {
     "name": "stdout",
     "output_type": "stream",
     "text": [
      "Result: {1: 10, 2: 20, 3: 30, 4: 40, 5: 50, 6: 60}\n"
     ]
    }
   ],
   "source": [
    "def concatenate_dicts(*dicts):\n",
    "    # Concatenate all dictionaries into a new one\n",
    "    result_dict = {**dicts[0], **dicts[1], **dicts[2]}\n",
    "    return result_dict\n",
    "\n",
    "# Sample dictionaries\n",
    "dic1 = {1: 10, 2: 20}\n",
    "dic2 = {3: 30, 4: 40}\n",
    "dic3 = {5: 50, 6: 60}\n",
    "\n",
    "# Concatenate dictionaries\n",
    "result = concatenate_dicts(dic1, dic2, dic3)\n",
    "print(\"Result:\", result)\n"
   ]
  },
  {
   "cell_type": "markdown",
   "id": "fb04c93c",
   "metadata": {},
   "source": [
    "**43-Write a Python program to iterate over dictionaries using for loops"
   ]
  },
  {
   "cell_type": "code",
   "execution_count": 17,
   "id": "6aebc470",
   "metadata": {},
   "outputs": [
    {
     "name": "stdout",
     "output_type": "stream",
     "text": [
      "Key: a, Value: 1\n",
      "Key: b, Value: 2\n",
      "Key: c, Value: 3\n"
     ]
    }
   ],
   "source": [
    "def iterate_over_items(d):\n",
    "    for key, value in d.items():\n",
    "        print(f\"Key: {key}, Value: {value}\")\n",
    "\n",
    "# Sample dictionary\n",
    "sample_dict = {'a': 1, 'b': 2, 'c': 3}\n",
    "\n",
    "# Iterate over key-value pairs\n",
    "iterate_over_items(sample_dict)\n"
   ]
  },
  {
   "cell_type": "markdown",
   "id": "5f491a9d",
   "metadata": {},
   "source": [
    "**44- Write a Python script to merge two Python dictionaries"
   ]
  },
  {
   "cell_type": "code",
   "execution_count": 18,
   "id": "b8a14028",
   "metadata": {},
   "outputs": [
    {
     "name": "stdout",
     "output_type": "stream",
     "text": [
      "Merged dictionary: {'a': 1, 'b': 2, 'c': 3, 'd': 4}\n"
     ]
    }
   ],
   "source": [
    "def merge_dicts(dict1, dict2):\n",
    "    # Create a copy of the first dictionary\n",
    "    merged_dict = dict1.copy()\n",
    "    # Update with the second dictionary\n",
    "    merged_dict.update(dict2)\n",
    "    return merged_dict\n",
    "\n",
    "# Example dictionaries\n",
    "dict1 = {'a': 1, 'b': 2}\n",
    "dict2 = {'c': 3, 'd': 4}\n",
    "\n",
    "# Merge dictionaries\n",
    "result = merge_dicts(dict1, dict2)\n",
    "print(\"Merged dictionary:\", result)"
   ]
  },
  {
   "cell_type": "markdown",
   "id": "216fc72d",
   "metadata": {},
   "source": [
    "**45-Write a Python program to get the maximum and minimum values of a dictionary values"
   ]
  },
  {
   "cell_type": "code",
   "execution_count": 19,
   "id": "d6883f5f",
   "metadata": {},
   "outputs": [
    {
     "name": "stdout",
     "output_type": "stream",
     "text": [
      "Maximum value: 20\n",
      "Minimum value: 5\n"
     ]
    }
   ],
   "source": [
    "def get_max_min_values(d):\n",
    "    # Check if the dictionary is not empty\n",
    "    if not d:\n",
    "        return None, None\n",
    "    \n",
    "    # Get the values from the dictionary\n",
    "    values = d.values()\n",
    "    \n",
    "    # Calculate the maximum and minimum values\n",
    "    max_value = max(values)\n",
    "    min_value = min(values)\n",
    "    \n",
    "    return max_value, min_value\n",
    "\n",
    "# Example dictionary\n",
    "sample_dict = {'a': 10, 'b': 20, 'c': 5, 'd': 15}\n",
    "\n",
    "# Get the maximum and minimum values\n",
    "max_val, min_val = get_max_min_values(sample_dict)\n",
    "\n",
    "print(f\"Maximum value: {max_val}\")\n",
    "print(f\"Minimum value: {min_val}\")\n"
   ]
  },
  {
   "cell_type": "markdown",
   "id": "b6a53011",
   "metadata": {},
   "source": [
    "**46- Write a Python program to drop empty items from a given dictionary.<br>\n",
    "Original Dictionary:<br>\n",
    "{'c1': 'Red', 'c2': 'Green', 'c3': None}<br>\n",
    "New Dictionary after dropping empty items:<br>\n",
    "{'c1': 'Red', 'c2': 'Green'}"
   ]
  },
  {
   "cell_type": "code",
   "execution_count": 20,
   "id": "b5c6fecf",
   "metadata": {},
   "outputs": [
    {
     "name": "stdout",
     "output_type": "stream",
     "text": [
      "Original Dictionary: {'c1': 'Red', 'c2': 'Green', 'c3': None}\n",
      "New Dictionary after dropping empty items: {'c1': 'Red', 'c2': 'Green'}\n"
     ]
    }
   ],
   "source": [
    "def drop_empty_items(d):\n",
    "    # Create a new dictionary excluding items with None or empty values\n",
    "    new_dict = {key: value for key, value in d.items() if value}\n",
    "    return new_dict\n",
    "\n",
    "# Original dictionary\n",
    "original_dict = {'c1': 'Red', 'c2': 'Green', 'c3': None}\n",
    "\n",
    "# Drop empty items\n",
    "new_dict = drop_empty_items(original_dict)\n",
    "\n",
    "print(\"Original Dictionary:\", original_dict)\n",
    "print(\"New Dictionary after dropping empty items:\", new_dict)\n"
   ]
  },
  {
   "cell_type": "markdown",
   "id": "46d718c7",
   "metadata": {},
   "source": [
    "**47-Write a Python program to create a tuple of numbers and print one item"
   ]
  },
  {
   "cell_type": "code",
   "execution_count": 21,
   "id": "13216ff5",
   "metadata": {},
   "outputs": [
    {
     "name": "stdout",
     "output_type": "stream",
     "text": [
      "Item at index 2: 3\n"
     ]
    }
   ],
   "source": [
    "def create_and_print_tuple():\n",
    "    # Create a tuple of numbers\n",
    "    numbers_tuple = (1, 2, 3, 4, 5)\n",
    "    \n",
    "    # Specify the index of the item you want to print\n",
    "    index_to_print = 2  # Change this index to print different items\n",
    "    \n",
    "    # Print the item at the specified index\n",
    "    if index_to_print < len(numbers_tuple):\n",
    "        print(f\"Item at index {index_to_print}: {numbers_tuple[index_to_print]}\")\n",
    "    else:\n",
    "        print(\"Index out of range\")\n",
    "\n",
    "# Call the function\n",
    "create_and_print_tuple()\n"
   ]
  },
  {
   "cell_type": "markdown",
   "id": "2be5b56b",
   "metadata": {},
   "source": [
    "**48-Write a Python program to unpack a tuple into several variables"
   ]
  },
  {
   "cell_type": "code",
   "execution_count": 22,
   "id": "595f44be",
   "metadata": {},
   "outputs": [
    {
     "name": "stdout",
     "output_type": "stream",
     "text": [
      "a: 10\n",
      "b: 20\n",
      "c: 30\n",
      "d: 40\n",
      "e: 50\n"
     ]
    }
   ],
   "source": [
    "def unpack_tuple():\n",
    "    # Create a tuple with multiple values\n",
    "    numbers_tuple = (10, 20, 30, 40, 50)\n",
    "    \n",
    "    # Unpack the tuple into individual variables\n",
    "    a, b, c, d, e = numbers_tuple\n",
    "    \n",
    "    # Print the unpacked variables\n",
    "    print(f\"a: {a}\")\n",
    "    print(f\"b: {b}\")\n",
    "    print(f\"c: {c}\")\n",
    "    print(f\"d: {d}\")\n",
    "    print(f\"e: {e}\")\n",
    "\n",
    "# Call the function\n",
    "unpack_tuple()\n"
   ]
  },
  {
   "cell_type": "markdown",
   "id": "392388a7",
   "metadata": {},
   "source": [
    "**49-Write a Python program to add an item to a tuple"
   ]
  },
  {
   "cell_type": "code",
   "execution_count": 23,
   "id": "54cc092e",
   "metadata": {},
   "outputs": [
    {
     "name": "stdout",
     "output_type": "stream",
     "text": [
      "Original tuple: (1, 2, 3)\n",
      "New tuple: (1, 2, 3, 4)\n"
     ]
    }
   ],
   "source": [
    "def add_item_to_tuple(original_tuple, item_to_add):\n",
    "    # Create a new tuple by concatenating the original tuple with a tuple containing the new item\n",
    "    new_tuple = original_tuple + (item_to_add,)\n",
    "    return new_tuple\n",
    "\n",
    "# Example tuple\n",
    "original_tuple = (1, 2, 3)\n",
    "\n",
    "# Item to add\n",
    "item_to_add = 4\n",
    "\n",
    "# Add the item to the tuple\n",
    "new_tuple = add_item_to_tuple(original_tuple, item_to_add)\n",
    "\n",
    "print(\"Original tuple:\", original_tuple)\n",
    "print(\"New tuple:\", new_tuple)\n"
   ]
  },
  {
   "cell_type": "markdown",
   "id": "3e8fd124",
   "metadata": {},
   "source": [
    "**50-Write a Python program to convert a tuple to a string"
   ]
  },
  {
   "cell_type": "code",
   "execution_count": 24,
   "id": "92a71ddc",
   "metadata": {},
   "outputs": [
    {
     "name": "stdout",
     "output_type": "stream",
     "text": [
      "Tuple: ('Hello', ' ', 'World', '!')\n",
      "Converted string: Hello World!\n"
     ]
    }
   ],
   "source": [
    "def tuple_to_string(tup):\n",
    "    # Join tuple elements with an empty separator\n",
    "    return ''.join(tup)\n",
    "\n",
    "# Example tuple with strings\n",
    "tuple_with_strings = ('Hello', ' ', 'World', '!')\n",
    "\n",
    "# Convert tuple to string\n",
    "result = tuple_to_string(tuple_with_strings)\n",
    "\n",
    "print(\"Tuple:\", tuple_with_strings)\n",
    "print(\"Converted string:\", result)\n"
   ]
  },
  {
   "cell_type": "markdown",
   "id": "f4f64ef4",
   "metadata": {},
   "source": [
    "**51-Write a Python program to convert a list to a tuple"
   ]
  },
  {
   "cell_type": "code",
   "execution_count": 25,
   "id": "210d56d3",
   "metadata": {},
   "outputs": [
    {
     "name": "stdout",
     "output_type": "stream",
     "text": [
      "List: [1, 2, 3, 4, 5]\n",
      "Converted tuple: (1, 2, 3, 4, 5)\n"
     ]
    }
   ],
   "source": [
    "def list_to_tuple(lst):\n",
    "    return tuple(lst)\n",
    "\n",
    "# Example list\n",
    "sample_list = [1, 2, 3, 4, 5]\n",
    "\n",
    "# Convert list to tuple\n",
    "converted_tuple = list_to_tuple(sample_list)\n",
    "\n",
    "print(\"List:\", sample_list)\n",
    "print(\"Converted tuple:\", converted_tuple)\n"
   ]
  },
  {
   "cell_type": "markdown",
   "id": "b1e00ef7",
   "metadata": {},
   "source": [
    "**52-Write a Python program to reverse a tuple"
   ]
  },
  {
   "cell_type": "code",
   "execution_count": 26,
   "id": "f45bfdc7",
   "metadata": {},
   "outputs": [
    {
     "name": "stdout",
     "output_type": "stream",
     "text": [
      "Original tuple: (1, 2, 3, 4, 5)\n",
      "Reversed tuple: (5, 4, 3, 2, 1)\n"
     ]
    }
   ],
   "source": [
    "def reverse_tuple(tup):\n",
    "    return tup[::-1]\n",
    "\n",
    "# Example tuple\n",
    "sample_tuple = (1, 2, 3, 4, 5)\n",
    "\n",
    "# Reverse the tuple\n",
    "reversed_tuple = reverse_tuple(sample_tuple)\n",
    "\n",
    "print(\"Original tuple:\", sample_tuple)\n",
    "print(\"Reversed tuple:\", reversed_tuple)\n"
   ]
  },
  {
   "cell_type": "markdown",
   "id": "3cd347d1",
   "metadata": {},
   "source": [
    "**53-Write a Python program to replace the last value of tuples in a list.<br>\n",
    "Sample list: [(10, 20, 40), (40, 50, 60), (70, 80, 90)] <br>\n",
    "Expected Output: [(10, 20, 100), (40, 50, 100), (70, 80, 100)]"
   ]
  },
  {
   "cell_type": "code",
   "execution_count": 27,
   "id": "3c4a2a4c",
   "metadata": {},
   "outputs": [
    {
     "name": "stdout",
     "output_type": "stream",
     "text": [
      "Original list: [(10, 20, 40), (40, 50, 60), (70, 80, 90)]\n",
      "Modified list: [(10, 20, 100), (40, 50, 100), (70, 80, 100)]\n"
     ]
    }
   ],
   "source": [
    "def replace_last_value(tuples_list, new_value):\n",
    "    # Replace the last value of each tuple in the list\n",
    "    return [t[:-1] + (new_value,) for t in tuples_list]\n",
    "\n",
    "# Sample list of tuples\n",
    "sample_list = [(10, 20, 40), (40, 50, 60), (70, 80, 90)]\n",
    "\n",
    "# New value to replace the last element\n",
    "new_last_value = 100\n",
    "\n",
    "# Replace the last value in each tuple\n",
    "modified_list = replace_last_value(sample_list, new_last_value)\n",
    "\n",
    "print(\"Original list:\", sample_list)\n",
    "print(\"Modified list:\", modified_list)\n"
   ]
  },
  {
   "cell_type": "markdown",
   "id": "76bb7b39",
   "metadata": {},
   "source": [
    "**54-Write a Python program to convert a given string list to a tuple\n",
    "Original string: python 3.0 <br>\n",
    "<class 'str'> <br>\n",
    "Convert the said string to a tuple: <br>\n",
    "('p', 'y', 't', 'h', 'o', 'n', '3', '.', '0')"
   ]
  },
  {
   "cell_type": "code",
   "execution_count": 28,
   "id": "51951937",
   "metadata": {},
   "outputs": [
    {
     "name": "stdout",
     "output_type": "stream",
     "text": [
      "Original string: python 3.0\n",
      "Converted tuple: ('p', 'y', 't', 'h', 'o', 'n', ' ', '3', '.', '0')\n"
     ]
    }
   ],
   "source": [
    "def string_to_tuple(s):\n",
    "    # Convert the string to a tuple of characters\n",
    "    return tuple(s)\n",
    "\n",
    "# Original string\n",
    "original_string = \"python 3.0\"\n",
    "\n",
    "# Convert string to tuple\n",
    "converted_tuple = string_to_tuple(original_string)\n",
    "\n",
    "print(\"Original string:\", original_string)\n",
    "print(\"Converted tuple:\", converted_tuple)\n"
   ]
  },
  {
   "cell_type": "markdown",
   "id": "5a1d5d97",
   "metadata": {},
   "source": [
    "**55-Write a Python program to calculate the average value of the numbers in a given tuple of tuples"
   ]
  },
  {
   "cell_type": "code",
   "execution_count": 29,
   "id": "834e7992",
   "metadata": {},
   "outputs": [
    {
     "name": "stdout",
     "output_type": "stream",
     "text": [
      "Tuple of tuples: ((1, 2, 3), (4, 5, 6), (7, 8, 9))\n",
      "Average value: 5.0\n"
     ]
    }
   ],
   "source": [
    "def average_of_tuple_of_tuples(tuples_list):\n",
    "    # Flatten the list of tuples and calculate average\n",
    "    all_numbers = [num for tpl in tuples_list for num in tpl]\n",
    "    return sum(all_numbers) / len(all_numbers) if all_numbers else None\n",
    "\n",
    "# Example tuple of tuples\n",
    "tuple_of_tuples = ((1, 2, 3), (4, 5, 6), (7, 8, 9))\n",
    "\n",
    "# Calculate average\n",
    "average = average_of_tuple_of_tuples(tuple_of_tuples)\n",
    "\n",
    "print(\"Tuple of tuples:\", tuple_of_tuples)\n",
    "print(\"Average value:\", average)\n"
   ]
  },
  {
   "cell_type": "markdown",
   "id": "51edab9c",
   "metadata": {},
   "source": [
    "**56-Write a Python program to add member(s) to a set."
   ]
  },
  {
   "cell_type": "code",
   "execution_count": 30,
   "id": "2b65df79",
   "metadata": {},
   "outputs": [
    {
     "name": "stdout",
     "output_type": "stream",
     "text": [
      "Updated set: {1, 2, 3, 4, 5}\n"
     ]
    }
   ],
   "source": [
    "def add_members_to_set(s, members):\n",
    "    # Add members to the set\n",
    "    s.update(members)\n",
    "    return s\n",
    "\n",
    "# Example set\n",
    "sample_set = {1, 2, 3}\n",
    "\n",
    "# Members to add\n",
    "members_to_add = {4, 5}\n",
    "\n",
    "# Add members\n",
    "updated_set = add_members_to_set(sample_set, members_to_add)\n",
    "\n",
    "print(\"Updated set:\", updated_set)\n"
   ]
  },
  {
   "cell_type": "markdown",
   "id": "965590cc",
   "metadata": {},
   "source": [
    "**57-Write a Python program to remove an item from a set if it is present in the set."
   ]
  },
  {
   "cell_type": "code",
   "execution_count": 31,
   "id": "866bab28",
   "metadata": {},
   "outputs": [
    {
     "name": "stdout",
     "output_type": "stream",
     "text": [
      "Updated set: {1, 2, 4}\n"
     ]
    }
   ],
   "source": [
    "def remove_item_from_set(s, item):\n",
    "    # Remove item from the set if it exists\n",
    "    s.discard(item)\n",
    "    return s\n",
    "\n",
    "# Example set\n",
    "sample_set = {1, 2, 3, 4}\n",
    "\n",
    "# Item to remove\n",
    "item_to_remove = 3\n",
    "\n",
    "# Remove item\n",
    "updated_set = remove_item_from_set(sample_set, item_to_remove)\n",
    "\n",
    "print(\"Updated set:\", updated_set)\n"
   ]
  },
  {
   "cell_type": "markdown",
   "id": "2b7cfed1",
   "metadata": {},
   "source": [
    "**58-Write a Python program to create an intersection,union,difference and symmetric difference of sets"
   ]
  },
  {
   "cell_type": "code",
   "execution_count": 32,
   "id": "7f94b7fe",
   "metadata": {},
   "outputs": [
    {
     "name": "stdout",
     "output_type": "stream",
     "text": [
      "Intersection: {3, 4}\n",
      "Union: {1, 2, 3, 4, 5, 6}\n",
      "Difference: {1, 2}\n",
      "Symmetric Difference: {1, 2, 5, 6}\n"
     ]
    }
   ],
   "source": [
    "def set_operations(set1, set2):\n",
    "    intersection = set1 & set2\n",
    "    union = set1 | set2\n",
    "    difference = set1 - set2\n",
    "    symmetric_difference = set1 ^ set2\n",
    "    \n",
    "    return intersection, union, difference, symmetric_difference\n",
    "\n",
    "# Example sets\n",
    "set1 = {1, 2, 3, 4}\n",
    "set2 = {3, 4, 5, 6}\n",
    "\n",
    "# Perform set operations\n",
    "intersection, union, difference, symmetric_difference = set_operations(set1, set2)\n",
    "\n",
    "print(\"Intersection:\", intersection)\n",
    "print(\"Union:\", union)\n",
    "print(\"Difference:\", difference)\n",
    "print(\"Symmetric Difference:\", symmetric_difference)\n"
   ]
  },
  {
   "cell_type": "markdown",
   "id": "b94931e2",
   "metadata": {},
   "source": [
    "**59-Write a Python program to find the maximum and minimum values in a set"
   ]
  },
  {
   "cell_type": "code",
   "execution_count": 33,
   "id": "203f9600",
   "metadata": {},
   "outputs": [
    {
     "name": "stdout",
     "output_type": "stream",
     "text": [
      "Set: {50, 20, 40, 10, 30}\n",
      "Maximum value: 50\n",
      "Minimum value: 10\n"
     ]
    }
   ],
   "source": [
    "def max_min_in_set(s):\n",
    "    if not s:\n",
    "        return None, None\n",
    "    return max(s), min(s)\n",
    "\n",
    "# Example set\n",
    "sample_set = {10, 20, 30, 40, 50}\n",
    "\n",
    "# Find max and min\n",
    "max_value, min_value = max_min_in_set(sample_set)\n",
    "\n",
    "print(\"Set:\", sample_set)\n",
    "print(\"Maximum value:\", max_value)\n",
    "print(\"Minimum value:\", min_value)\n"
   ]
  },
  {
   "cell_type": "markdown",
   "id": "255fd554",
   "metadata": {},
   "source": [
    "**60- Write a Python program that finds all pairs of elements in a list whose sum is equal to a given value."
   ]
  },
  {
   "cell_type": "code",
   "execution_count": 34,
   "id": "c2d94e1f",
   "metadata": {},
   "outputs": [
    {
     "name": "stdout",
     "output_type": "stream",
     "text": [
      "Pairs with sum equal to 8 : [(1, 7), (2, 6), (3, 5)]\n"
     ]
    }
   ],
   "source": [
    "def find_pairs_with_sum(lst, target_sum):\n",
    "    pairs = set()\n",
    "    seen = set()\n",
    "    \n",
    "    for number in lst:\n",
    "        # Calculate the complement of the current number\n",
    "        complement = target_sum - number\n",
    "        \n",
    "        # Check if the complement is already in the seen set\n",
    "        if complement in seen:\n",
    "            # Add the pair (complement, number) to the pairs set\n",
    "            pairs.add((complement, number))\n",
    "        \n",
    "        # Add the current number to the seen set\n",
    "        seen.add(number)\n",
    "    \n",
    "    return list(pairs)\n",
    "\n",
    "# Example list and target sum\n",
    "example_list = [1, 2, 3, 4, 5, 6, 7]\n",
    "target_sum = 8\n",
    "\n",
    "# Find pairs\n",
    "result_pairs = find_pairs_with_sum(example_list, target_sum)\n",
    "\n",
    "print(\"Pairs with sum equal to\", target_sum, \":\", result_pairs)\n"
   ]
  }
 ],
 "metadata": {
  "kernelspec": {
   "display_name": "Python 3 (ipykernel)",
   "language": "python",
   "name": "python3"
  },
  "language_info": {
   "codemirror_mode": {
    "name": "ipython",
    "version": 3
   },
   "file_extension": ".py",
   "mimetype": "text/x-python",
   "name": "python",
   "nbconvert_exporter": "python",
   "pygments_lexer": "ipython3",
   "version": "3.12.3"
  }
 },
 "nbformat": 4,
 "nbformat_minor": 5
}
